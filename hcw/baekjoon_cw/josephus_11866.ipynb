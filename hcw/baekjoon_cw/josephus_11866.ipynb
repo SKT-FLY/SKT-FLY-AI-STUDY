{
 "cells": [
  {
   "cell_type": "markdown",
   "metadata": {},
   "source": [
    "# 요세푸스 문제\n",
    "\n",
    "요세푸스 문제는 다음과 같다.\n",
    "\n",
    "1번부터 N번까지 N명의 사람이 원을 이루면서 앉아있고, 양의 정수 K(≤ N)가 주어진다. <br>\n",
    "이제 순서대로 K번째 사람을 제거한다. <br>\n",
    "한 사람이 제거되면 남은 사람들로 이루어진 원을 따라 이 과정을 계속해 나간다. \n",
    "\n",
    "이 과정은 N명의 사람이 모두 제거될 때까지 계속된다. 원에서 사람들이 제거되는 순서를 (N, K)-요세푸스 순열이라고 한다. <br>\n",
    "예를 들어 (7, 3)-요세푸스 순열은 <3, 6, 2, 7, 5, 1, 4>이다.\n",
    "\n",
    "N과 K가 주어지면 (N, K)-요세푸스 순열을 구하는 프로그램을 작성하시오.\n",
    "\n",
    "### 입력\n",
    "첫째 줄에 N과 K가 빈 칸을 사이에 두고 순서대로 주어진다. (1 ≤ K ≤ N ≤ 1,000)\n",
    "\n",
    "### 출력\n",
    "예제와 같이 요세푸스 순열을 출력한다.\n",
    "\n",
    "\n",
    "\n",
    "#### 예제 입력 1 \n",
    "```\n",
    "7 3\n",
    "```\n",
    "#### 예제 출력 1 \n",
    "```\n",
    "<3, 6, 2, 7, 5, 1, 4>\n",
    "```\n",
    "\n",
    "### 알고리즘 분류\n",
    "- 구현\n",
    "- 자료 구조\n",
    "- 큐\n",
    "\n",
    "---"
   ]
  },
  {
   "cell_type": "code",
   "execution_count": 8,
   "metadata": {},
   "outputs": [
    {
     "name": "stdout",
     "output_type": "stream",
     "text": [
      "<3, 6, 2, 7, 5, 1, 4>"
     ]
    }
   ],
   "source": [
    "from collections import deque\n",
    "\n",
    "N, K = map(int, input().split())  # 7 3\n",
    "n_que = deque([x+1 for x in range (N)])\n",
    "\n",
    "ans_li = []\n",
    "for _ in range (N):\n",
    "    n_que.rotate(-K+1)\n",
    "    ans_li.append(n_que.popleft())\n",
    "\n",
    "print(f\"<{ans_li[0]}\", end=\"\")\n",
    "for i in range (1, N):\n",
    "    print(f\", {ans_li[i]}\", end=\"\")\n",
    "print(\">\", end=\"\")\n",
    "\n",
    "# <3, 6, 2, 7, 5, 1, 4>"
   ]
  },
  {
   "cell_type": "markdown",
   "metadata": {},
   "source": [
    "---\n",
    "\n",
    "```맞았습니다!!```"
   ]
  }
 ],
 "metadata": {
  "kernelspec": {
   "display_name": "myenv",
   "language": "python",
   "name": "python3"
  },
  "language_info": {
   "codemirror_mode": {
    "name": "ipython",
    "version": 3
   },
   "file_extension": ".py",
   "mimetype": "text/x-python",
   "name": "python",
   "nbconvert_exporter": "python",
   "pygments_lexer": "ipython3",
   "version": "3.11.9"
  }
 },
 "nbformat": 4,
 "nbformat_minor": 2
}
