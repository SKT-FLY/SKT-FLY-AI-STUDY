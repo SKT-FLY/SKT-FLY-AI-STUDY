{
 "cells": [
  {
   "cell_type": "markdown",
   "metadata": {},
   "source": [
    "# 구간 합 구하기 5\n",
    " \n",
    "- 시간 제한: 1 초\n",
    "\n",
    "## 문제\n",
    "N×N개의 수가 N×N 크기의 표에 채워져 있다. (x1, y1)부터 (x2, y2)까지 합을 구하는 프로그램을 작성하시오. <br>\n",
    "(x, y)는 x행 y열을 의미한다.\n",
    "\n",
    "예를 들어, N = 4이고, 표가 아래와 같이 채워져 있는 경우를 살펴보자.\n",
    "```\n",
    "1\t2\t3\t4\n",
    "2\t3\t4\t5\n",
    "3\t4\t5\t6\n",
    "4\t5\t6\t7\n",
    "```\n",
    "여기서 (2, 2)부터 (3, 4)까지 합을 구하면 3+4+5+4+5+6 = 27이고, (4, 4)부터 (4, 4)까지 합을 구하면 7이다.\n",
    "\n",
    "표에 채워져 있는 수와 합을 구하는 연산이 주어졌을 때, 이를 처리하는 프로그램을 작성하시오.\n",
    "\n",
    "### 입력\n",
    "첫째 줄에 표의 크기 N과 합을 구해야 하는 횟수 M이 주어진다. (1 ≤ N ≤ 1024, 1 ≤ M ≤ 100,000) <br>\n",
    "둘째 줄부터 N개의 줄에는 표에 채워져 있는 수가 1행부터 차례대로 주어진다. <br>\n",
    "다음 M개의 줄에는 네 개의 정수 x1, y1, x2, y2 가 주어지며, (x1, y1)부터 (x2, y2)의 합을 구해 출력해야 한다. <br>\n",
    "표에 채워져 있는 수는 1,000보다 작거나 같은 자연수이다. (x1 ≤ x2, y1 ≤ y2)\n",
    "\n",
    "### 출력\n",
    "총 M줄에 걸쳐 (x1, y1)부터 (x2, y2)까지 합을 구해 출력한다.\n",
    "\n",
    "#### 예제 입력 1 \n",
    "```\n",
    "4 3\n",
    "1 2 3 4\n",
    "2 3 4 5\n",
    "3 4 5 6\n",
    "4 5 6 7\n",
    "2 2 3 4\n",
    "3 4 3 4\n",
    "1 1 4 4\n",
    "```\n",
    "#### 예제 출력 1 \n",
    "```\n",
    "27\n",
    "6\n",
    "64\n",
    "```\n",
    "#### 예제 입력 2 \n",
    "```\n",
    "2 4\n",
    "1 2\n",
    "3 4\n",
    "1 1 1 1\n",
    "1 2 1 2\n",
    "2 1 2 1\n",
    "2 2 2 2\n",
    "```\n",
    "#### 예제 출력 2 \n",
    "```\n",
    "1\n",
    "2\n",
    "3\n",
    "4\n",
    "```\n",
    "### 알고리즘 분류\n",
    "- 다이나믹 프로그래밍\n",
    "- 누적 합\n",
    "\n",
    "---\n"
   ]
  },
  {
   "cell_type": "markdown",
   "metadata": {},
   "source": [
    "### DP(Dynamic Programming)\n",
    "- 하나의 큰 문제를 작은 부분 문제 여러 개로 나누어 푸는 문제 해결 기법\n",
    "- 동일한 작은 문제가 반복되어 나타나는 경우 앞서 이미 계산한 결과를 재사용하여 효율성 향상\n",
    "\n",
    "### 누적 합(Prefix Sum)\n",
    "- 배열의 각 위치까지의 합을 미리 계산해두어 특정 구간의 합을 빠르게 계산할 수 있도록 하는 방법\n",
    "- 배열의 합을 반복적으로 구할 떄 효율적임\n",
    "\n",
    "---"
   ]
  },
  {
   "cell_type": "markdown",
   "metadata": {},
   "source": [
    "### try: 1 (시간 초과)"
   ]
  },
  {
   "cell_type": "markdown",
   "metadata": {},
   "source": [
    "##### 입력 받기"
   ]
  },
  {
   "cell_type": "code",
   "execution_count": 13,
   "metadata": {},
   "outputs": [],
   "source": [
    "N, M = map(int, input().split())  # N: 표의 크기 (NxN), M: 합을 구할 횟수\n",
    "\n",
    "table = []\n",
    "for _ in range (N):\n",
    "    table.append(list(map(int, input().split())))\n",
    "# print(table)\n",
    "\n",
    "obtains = []\n",
    "for _ in range (M):\n",
    "    obtains.append(list(map(int, input().split())))  # x1, y1, x2, y2\n",
    "# print(sum_obtain)"
   ]
  },
  {
   "cell_type": "markdown",
   "metadata": {},
   "source": [
    "##### 누적 합 구하기"
   ]
  },
  {
   "cell_type": "code",
   "execution_count": 14,
   "metadata": {},
   "outputs": [
    {
     "name": "stdout",
     "output_type": "stream",
     "text": [
      "[[1, 3], [3, 7]]\n"
     ]
    }
   ],
   "source": [
    "sum_table = []\n",
    "for i in range (N):\n",
    "    sub_list = []\n",
    "    sum = 0\n",
    "    for k in range (N):\n",
    "        sum += table[i][k]\n",
    "        sub_list.append(sum)\n",
    "    sum_table.append(sub_list)\n",
    "# print(sum_table)"
   ]
  },
  {
   "cell_type": "markdown",
   "metadata": {},
   "source": [
    "##### 답 구하기"
   ]
  },
  {
   "cell_type": "code",
   "execution_count": 15,
   "metadata": {},
   "outputs": [
    {
     "name": "stdout",
     "output_type": "stream",
     "text": [
      "1\n",
      "[1]\n",
      "2\n",
      "[1, 2]\n",
      "3\n",
      "[1, 2, 3]\n",
      "4\n",
      "[1, 2, 3, 4]\n"
     ]
    }
   ],
   "source": [
    "answer_list = []\n",
    "for x1, y1, x2, y2 in obtains:\n",
    "    # print(x1, y1, x2, y2)\n",
    "    answer = 0\n",
    "    for x in range (x1-1, x2):\n",
    "        if y1 != 1:\n",
    "            answer += sum_table[x][y2-1] - sum_table[x][y1-2]\n",
    "        else:\n",
    "            answer += sum_table[x][y2-1]\n",
    "        # print(answer)\n",
    "    answer_list.append(answer)\n",
    "    # print(answer_list)"
   ]
  },
  {
   "cell_type": "markdown",
   "metadata": {},
   "source": [
    "##### 출력"
   ]
  },
  {
   "cell_type": "code",
   "execution_count": 9,
   "metadata": {},
   "outputs": [
    {
     "name": "stdout",
     "output_type": "stream",
     "text": [
      "12\n",
      "27\n",
      "6\n"
     ]
    }
   ],
   "source": [
    "for i in range (M):\n",
    "    print(answer_list[i])"
   ]
  },
  {
   "cell_type": "markdown",
   "metadata": {},
   "source": [
    "---\n",
    "``` python\n",
    "N, M = map(int, input().split())  # N: 표의 크기 (NxN), M: 합을 구할 횟수\n",
    "\n",
    "table = []\n",
    "for _ in range (N):\n",
    "    table.append(list(map(int, input().split())))\n",
    "\n",
    "obtains = []\n",
    "for _ in range (M):\n",
    "    obtains.append(list(map(int, input().split())))  # x1, y1, x2, y2\n",
    "\n",
    "sum_table = []\n",
    "for i in range (N):\n",
    "    sub_list = []\n",
    "    sum = 0\n",
    "    for k in range (N):\n",
    "        sum += table[i][k]\n",
    "        sub_list.append(sum)\n",
    "    sum_table.append(sub_list)\n",
    "\n",
    "answer_list = []\n",
    "for x1, y1, x2, y2 in obtains:\n",
    "    answer = 0\n",
    "    for x in range (x1-1, x2):\n",
    "        if y1 != 1:\n",
    "            answer += sum_table[x][y2-1] - sum_table[x][y1-2]\n",
    "        else:\n",
    "            answer += sum_table[x][y2-1]\n",
    "    answer_list.append(answer)\n",
    "\n",
    "for i in range (M):\n",
    "    print(answer_list[i])\n",
    "```\n",
    "\n",
    "---\n",
    "\n",
    "```시간 초과```\n"
   ]
  },
  {
   "cell_type": "markdown",
   "metadata": {},
   "source": [
    "---\n",
    "\n",
    "### try: 2, 3 (시간 초과), 4 (성공)\n",
    "- sys.stdin 이용\n",
    "- 2차원 누적 합 배열을 이용"
   ]
  },
  {
   "cell_type": "markdown",
   "metadata": {},
   "source": [
    "##### get input data (1트)"
   ]
  },
  {
   "cell_type": "code",
   "execution_count": 4,
   "metadata": {},
   "outputs": [],
   "source": [
    "N, M = map(int, input().split())  # N: 표의 크기 (NxN), M: 합을 구할 횟수\n",
    "\n",
    "table = []\n",
    "for _ in range (N):\n",
    "    table.append(list(map(int, input().split())))\n",
    "\n",
    "obtains = []\n",
    "for _ in range (M):\n",
    "    obtains.append(list(map(int, input().split())))  # x1, y1, x2, y2"
   ]
  },
  {
   "cell_type": "markdown",
   "metadata": {},
   "source": [
    "##### get input data (2트) - 성공!!\n",
    "- sys.stdin 이용\n"
   ]
  },
  {
   "cell_type": "code",
   "execution_count": null,
   "metadata": {},
   "outputs": [],
   "source": [
    "import sys\n",
    "input = sys.stdin.readline\n",
    "\n",
    "N, M = map(int, input().split())  # N: 표의 크기 (NxN), M: 합을 구할 횟수\n",
    "\n",
    "table = []\n",
    "for _ in range (N):\n",
    "    table.append(list(map(int, input().split())))\n",
    "\n",
    "obtains = []\n",
    "for _ in range (M):\n",
    "    obtains.append(list(map(int, input().split())))  # x1, y1, x2, y2"
   ]
  },
  {
   "cell_type": "markdown",
   "metadata": {},
   "source": [
    "##### 2차원 누적 합 배열 생성 (1트)"
   ]
  },
  {
   "cell_type": "code",
   "execution_count": 5,
   "metadata": {},
   "outputs": [],
   "source": [
    "sum_table = []\n",
    "for i in range (N):\n",
    "    sub_list = []\n",
    "    sum = 0\n",
    "    for k in range (N):\n",
    "        sum += table[i][k]\n",
    "        sub_list.append(sum)\n",
    "    sum_table.append(sub_list)\n",
    "    # print(sub_list)"
   ]
  },
  {
   "cell_type": "code",
   "execution_count": 9,
   "metadata": {},
   "outputs": [
    {
     "name": "stdout",
     "output_type": "stream",
     "text": [
      "[[0, 0, 0, 0, 0], [0, 1, 3, 6, 10], [0, 3, 8, 15, 24], [0, 0, 0, 0, 0], [0, 0, 0, 0, 0]]\n",
      "[[0, 0, 0, 0, 0], [0, 1, 3, 6, 10], [0, 3, 8, 15, 24], [0, 6, 15, 27, 42], [0, 0, 0, 0, 0]]\n",
      "[[0, 0, 0, 0, 0], [0, 1, 3, 6, 10], [0, 3, 8, 15, 24], [0, 6, 15, 27, 42], [0, 10, 24, 42, 64]]\n"
     ]
    }
   ],
   "source": [
    "# sum_array = [[0]*(N+1)]*(N+1)  # 이렇게 쓰면 모든 행이 동일한 리스트를 참조하게 됨 \n",
    "\n",
    "# 각 행을 독립적으로 생성하려면 리스트 내포(List Comprehension)를 사용해야 합\n",
    "sum_array = [[0] * (N + 1) for _ in range(N + 1)]\n",
    "# print(sum_array)  # [[0, 0, 0, 0, 0], [0, 0, 0, 0, 0], [0, 0, 0, 0, 0], [0, 0, 0, 0, 0], [0, 0, 0, 0, 0]]\n",
    "\n",
    "for k in range (N):\n",
    "    sum_array[1][k+1] = sum_table[0][k]\n",
    "# print(sum_array)  # [[0, 0, 0, 0, 0], [0, 1, 3, 6, 10], [0, 0, 0, 0, 0], [0, 0, 0, 0, 0], [0, 0, 0, 0, 0]]\n",
    "\n",
    "for i in range (1, N):\n",
    "    for k in range (N):\n",
    "        sum_array[i+1][k+1] = sum_array[i][k+1] + sum_table[i][k]\n",
    "    # print(sum_array)"
   ]
  },
  {
   "cell_type": "markdown",
   "metadata": {},
   "source": [
    "```시간 초과```"
   ]
  },
  {
   "cell_type": "markdown",
   "metadata": {},
   "source": [
    "##### 2차원 누적 합 배열 생성 (2트) - 성공!!\n",
    "- 2차원 누적 합 배열을 한번에 계산"
   ]
  },
  {
   "cell_type": "code",
   "execution_count": 11,
   "metadata": {},
   "outputs": [
    {
     "name": "stdout",
     "output_type": "stream",
     "text": [
      "[[0, 0, 0, 0, 0], [0, 1, 3, 6, 10], [0, 3, 8, 15, 24], [0, 6, 15, 27, 42], [0, 10, 24, 42, 64]]\n"
     ]
    }
   ],
   "source": [
    "sum_array = [[0] * (N + 1) for _ in range(N + 1)]\n",
    "\n",
    "# 누적 합 배열 계산\n",
    "for i in range(1, N + 1):\n",
    "    for j in range(1, N + 1):\n",
    "        sum_array[i][j] = table[i-1][j-1] + sum_array[i-1][j] + sum_array[i][j-1] - sum_array[i-1][j-1]\n",
    "\n",
    "print(sum_array)\n"
   ]
  },
  {
   "cell_type": "markdown",
   "metadata": {},
   "source": [
    "##### 부분 합 계산 및 출력"
   ]
  },
  {
   "cell_type": "code",
   "execution_count": 10,
   "metadata": {},
   "outputs": [
    {
     "name": "stdout",
     "output_type": "stream",
     "text": [
      "27\n",
      "6\n",
      "64\n"
     ]
    }
   ],
   "source": [
    "for x1, y1, x2, y2 in obtains:\n",
    "    answer = sum_array[x2][y2] - sum_array[x1-1][y2] - sum_array[x2][y1-1] + sum_array[x1-1][y1-1]\n",
    "    print(answer)"
   ]
  },
  {
   "cell_type": "markdown",
   "metadata": {},
   "source": [
    "---\n",
    "\n",
    "``` python\n",
    "N, M = map(int, input().split())  # N: 표의 크기 (NxN), M: 합을 구할 횟수\n",
    "\n",
    "table = []\n",
    "for _ in range (N):\n",
    "    table.append(list(map(int, input().split())))\n",
    "\n",
    "obtains = []\n",
    "for _ in range (M):\n",
    "    obtains.append(list(map(int, input().split())))  # x1, y1, x2, y2\n",
    "\n",
    "sum_table = []\n",
    "for i in range (N):\n",
    "    sub_list = []\n",
    "    sum = 0\n",
    "    for k in range (N):\n",
    "        sum += table[i][k]\n",
    "        sub_list.append(sum)\n",
    "    sum_table.append(sub_list)\n",
    "\n",
    "sum_array = [[0] * (N + 1) for _ in range(N + 1)]\n",
    "\n",
    "for k in range (N):\n",
    "    sum_array[1][k+1] = sum_table[0][k]\n",
    "\n",
    "for i in range (1, N):\n",
    "    for k in range (N):\n",
    "        sum_array[i+1][k+1] = sum_array[i][k+1] + sum_table[i][k]\n",
    "\n",
    "for x1, y1, x2, y2 in obtains:\n",
    "    answer = sum_array[x2][y2] - sum_array[x1-1][y2] - sum_array[x2][y1-1] + sum_array[x1-1][y1-1]\n",
    "    print(answer)\n",
    "```\n",
    "\n",
    "---\n",
    "\n",
    "```시간 초과```\n"
   ]
  },
  {
   "cell_type": "markdown",
   "metadata": {},
   "source": [
    "---\n",
    "\n",
    "``` python\n",
    "N, M = map(int, input().split())  # N: 표의 크기 (NxN), M: 합을 구할 횟수\n",
    "\n",
    "table = []\n",
    "for _ in range (N):\n",
    "    table.append(list(map(int, input().split())))\n",
    "\n",
    "obtains = []\n",
    "for _ in range (M):\n",
    "    obtains.append(list(map(int, input().split())))  # x1, y1, x2, y2\n",
    "sum_array = [[0] * (N + 1) for _ in range(N + 1)]\n",
    "\n",
    "# 누적 합 배열 계산\n",
    "for i in range(1, N + 1):\n",
    "    for j in range(1, N + 1):\n",
    "        sum_array[i][j] = table[i-1][j-1] + sum_array[i-1][j] + sum_array[i][j-1] - sum_array[i-1][j-1]\n",
    "\n",
    "for x1, y1, x2, y2 in obtains:\n",
    "    answer = sum_array[x2][y2] - sum_array[x1-1][y2] - sum_array[x2][y1-1] + sum_array[x1-1][y1-1]\n",
    "    print(answer)\n",
    "```\n",
    "\n",
    "---\n",
    "\n",
    "```시간 초과```\n"
   ]
  },
  {
   "cell_type": "markdown",
   "metadata": {},
   "source": [
    "---\n",
    "\n",
    "``` python\n",
    "import sys\n",
    "input = sys.stdin.readline\n",
    "\n",
    "N, M = map(int, input().split())  # N: 표의 크기 (NxN), M: 합을 구할 횟수\n",
    "\n",
    "table = []\n",
    "for _ in range (N):\n",
    "    table.append(list(map(int, input().split())))\n",
    "\n",
    "obtains = []\n",
    "for _ in range (M):\n",
    "    obtains.append(list(map(int, input().split())))  # x1, y1, x2, y2\n",
    "    \n",
    "sum_table = []\n",
    "for i in range (N):\n",
    "    sub_list = []\n",
    "    sum = 0\n",
    "    for k in range (N):\n",
    "        sum += table[i][k]\n",
    "        sub_list.append(sum)\n",
    "    sum_table.append(sub_list)\n",
    "\n",
    "sum_array = [[0] * (N + 1) for _ in range(N + 1)]\n",
    "\n",
    "for k in range (N):\n",
    "    sum_array[1][k+1] = sum_table[0][k]\n",
    "\n",
    "for i in range (1, N):\n",
    "    for k in range (N):\n",
    "        sum_array[i+1][k+1] = sum_array[i][k+1] + sum_table[i][k]\n",
    "\n",
    "for x1, y1, x2, y2 in obtains:\n",
    "    answer = sum_array[x2][y2] - sum_array[x1-1][y2] - sum_array[x2][y1-1] + sum_array[x1-1][y1-1]\n",
    "    print(answer)\n",
    "```\n",
    "\n",
    "---\n",
    "\n",
    "```맞았습니다!!```\n"
   ]
  },
  {
   "cell_type": "markdown",
   "metadata": {},
   "source": []
  }
 ],
 "metadata": {
  "kernelspec": {
   "display_name": "myenv",
   "language": "python",
   "name": "python3"
  },
  "language_info": {
   "codemirror_mode": {
    "name": "ipython",
    "version": 3
   },
   "file_extension": ".py",
   "mimetype": "text/x-python",
   "name": "python",
   "nbconvert_exporter": "python",
   "pygments_lexer": "ipython3",
   "version": "3.11.8"
  }
 },
 "nbformat": 4,
 "nbformat_minor": 2
}
