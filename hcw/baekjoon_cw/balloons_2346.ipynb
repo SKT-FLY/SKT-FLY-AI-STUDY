{
 "cells": [
  {
   "cell_type": "markdown",
   "metadata": {},
   "source": [
    "# 풍선 터뜨리기\n",
    " \n",
    "## 문제\n",
    "1번부터 N번까지 N개의 풍선이 원형으로 놓여 있다. <br>\n",
    "i번 풍선의 오른쪽에는 i+1번 풍선이 있고, 왼쪽에는 i-1번 풍선이 있다. <br>\n",
    "단, 1번 풍선의 왼쪽에 N번 풍선이 있고, N번 풍선의 오른쪽에 1번 풍선이 있다. <br>\n",
    "각 풍선 안에는 종이가 하나 들어있고, 종이에는 -N보다 크거나 같고, N보다 작거나 같은 정수가 하나 적혀있다. <br>\n",
    "이 풍선들을 다음과 같은 규칙으로 터뜨린다.\n",
    "\n",
    "우선, 제일 처음에는 1번 풍선을 터뜨린다. <br>\n",
    "다음에는 풍선 안에 있는 종이를 꺼내어 그 종이에 적혀있는 값만큼 이동하여 다음 풍선을 터뜨린다. <br>\n",
    "양수가 적혀 있을 경우에는 오른쪽으로, 음수가 적혀 있을 때는 왼쪽으로 이동한다. <br>\n",
    "이동할 때에는 이미 터진 풍선은 빼고 이동한다.\n",
    "\n",
    "예를 들어 다섯 개의 풍선 안에 차례로 3, 2, 1, -3, -1이 적혀 있었다고 하자. <br>\n",
    "이 경우 3이 적혀 있는 1번 풍선, -3이 적혀 있는 4번 풍선, -1이 적혀 있는 5번 풍선, 1이 적혀 있는 3번 풍선, 2가 적혀 있는 2번 풍선의 순서대로 터지게 된다.\n",
    "\n",
    "### 입력\n",
    "첫째 줄에 자연수 N(1 ≤ N ≤ 1,000)이 주어진다. <br>\n",
    "다음 줄에는 차례로 각 풍선 안의 종이에 적혀 있는 수가 주어진다. <br>\n",
    "**종이에 0은 적혀있지 않다.**\n",
    "\n",
    "### 출력\n",
    "첫째 줄에 터진 풍선의 번호를 차례로 나열한다. <br>\n",
    "\n",
    "#### 예제 입력 1 \n",
    "```\n",
    "5\n",
    "3 2 1 -3 -1\n",
    "```\n",
    "\n",
    "#### 예제 출력 1 \n",
    "```\n",
    "1 4 5 3 2\n",
    "```\n",
    "\n",
    "---"
   ]
  },
  {
   "cell_type": "code",
   "execution_count": 87,
   "metadata": {},
   "outputs": [
    {
     "name": "stdout",
     "output_type": "stream",
     "text": [
      "balloons: deque([(1, 3), (2, 2), (3, 1), (4, -3), (5, -1)])\n",
      "(1, 3) <class 'tuple'>\n",
      "** [1] **\n",
      "balloons: deque([(4, -3), (5, -1), (2, 2), (3, 1)])\n",
      "\n",
      "(4, -3) <class 'tuple'>\n",
      "** [1, 4] **\n",
      "balloons: deque([(5, -1), (2, 2), (3, 1)])\n",
      "\n",
      "(5, -1) <class 'tuple'>\n",
      "** [1, 4, 5] **\n",
      "balloons: deque([(3, 1), (2, 2)])\n",
      "\n",
      "(3, 1) <class 'tuple'>\n",
      "** [1, 4, 5, 3] **\n",
      "balloons: deque([(2, 2)])\n",
      "\n",
      "(2, 2) <class 'tuple'>\n",
      "** [1, 4, 5, 3, 2] **\n",
      "balloons: deque([])\n",
      "\n",
      "1 4 5 3 2 "
     ]
    }
   ],
   "source": [
    "from collections import deque\n",
    "\n",
    "N = int(input())\n",
    "\n",
    "paper_num = list(map(int, input().split()))\n",
    "# paper_num = [3, 2, 1, -3, -1]\n",
    "ball_tuples = deque([(x+1, paper_num[x]) for x in range (N)])\n",
    "\n",
    "# print(f\"balloons: {ball_tuples}\")\n",
    "\n",
    "out_li = []\n",
    "for _ in range (N):\n",
    "    element = ball_tuples.popleft()\n",
    "    out_li.append(element[0])\n",
    "    paper = element[1]\n",
    "    # print(element, type(element))\n",
    "\n",
    "    # update index\n",
    "    if paper > 0:\n",
    "        ball_tuples.rotate(-paper+1)\n",
    "    else:\n",
    "        ball_tuples.rotate(-paper)\n",
    "\n",
    "    # print(f\"** {out_li} **\")\n",
    "    # print(f\"balloons: {ball_tuples}\\n\")\n",
    "for i in range (len(out_li)):\n",
    "    print(out_li[i], end=\" \")\n",
    "\n",
    "# 1 4 5 3 2"
   ]
  },
  {
   "cell_type": "markdown",
   "metadata": {},
   "source": [
    "---\n",
    "\n",
    "```맞았습니다!!```"
   ]
  }
 ],
 "metadata": {
  "kernelspec": {
   "display_name": "myenv",
   "language": "python",
   "name": "python3"
  },
  "language_info": {
   "codemirror_mode": {
    "name": "ipython",
    "version": 3
   },
   "file_extension": ".py",
   "mimetype": "text/x-python",
   "name": "python",
   "nbconvert_exporter": "python",
   "pygments_lexer": "ipython3",
   "version": "3.11.9"
  }
 },
 "nbformat": 4,
 "nbformat_minor": 2
}
