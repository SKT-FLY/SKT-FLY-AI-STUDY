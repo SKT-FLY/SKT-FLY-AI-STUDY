{
 "cells": [
  {
   "cell_type": "markdown",
   "metadata": {},
   "source": [
    "# 계기판 조작하기\n",
    "- 시간 제한: 1초\n",
    "\n",
    "엘리스는 악질 중고차 딜러인 체셔를 싫어해 체셔를 골탕 먹이려고 합니다.\n",
    "\n",
    "엘리스는 순식간에 자동차 주행거리 계기판을 조작할 수 있는 기술을 가지고 있습니다. <br>\n",
    "엘리스는 차를 구경하겠다고 체셔에게 부탁한 뒤 구경하는 시간 동안 계기판의 주행거리를 더 크게 조작해 체셔가 당황하게 만들 예정입니다.\n",
    "\n",
    "원래 자동차의 주행거리가 $N$ 킬로미터면 여러분은 체셔에게 들키지 않도록 주행거리를 $N$ 보다 크면서, 가장 작은 수로 늘려놓으려고 합니다. <br>\n",
    "이때, 조작한 값은 서로 다른 $K$ 개의 숫자로 이루어져야 합니다. <br>\n",
    "예를 들어, ```100000```이란 수는 ```1```과 ```0```으로 이루어져 있으므로, 2개의 숫자로 이루어진 수입니다.\n",
    "\n",
    "$N$ 과 $K$ 를 줬을 때 조작할 수 있는 주행거리의 최솟값을 출력하는 프로그램을 작성하세요."
   ]
  },
  {
   "cell_type": "markdown",
   "metadata": {},
   "source": [
    "## 지시사항\n",
    "### 입력\n",
    "- 첫 번째 줄에 자연수 $N$ 과 $K$ 를 입력합니다.\n",
    "\n",
    "$1≤N≤10^7$\n",
    "\n",
    "$1≤K≤10$\n",
    "\n",
    "- 주행거리를 조작한 값이 전과 비교해 더 큰 경우만 입력합니다.\n",
    "\n",
    "### 출력\n",
    "- 첫 번째 줄에 조작할 수 있는 주행거리의 최솟값을 출력합니다.\n",
    "\n",
    "#### 입력 예시\n",
    "```\n",
    "100000 3\n",
    "```\n",
    "\n",
    "#### 출력 예시\n",
    "```\n",
    "100002\n",
    "```"
   ]
  },
  {
   "cell_type": "code",
   "execution_count": 2,
   "metadata": {},
   "outputs": [
    {
     "name": "stdout",
     "output_type": "stream",
     "text": [
      "N: 100000\n",
      "K: 3\n"
     ]
    }
   ],
   "source": [
    "# 자연수 N, K를 입력받음\n",
    "N, K = map(int, input().split())\n",
    "\n",
    "print(f\"N: {N}\")\n",
    "print(f\"K: {K}\")"
   ]
  },
  {
   "cell_type": "markdown",
   "metadata": {},
   "source": [
    "- 정답은 N보다 커야 함\n",
    "\n",
    "    -> N보다 큰 수 중 K 개의 수로 이루어진 수가 정답"
   ]
  },
  {
   "cell_type": "code",
   "execution_count": 3,
   "metadata": {},
   "outputs": [],
   "source": [
    "def count_k(num):\n",
    "    str_num = str(num)\n",
    "    num_li = []\n",
    "    for s in (str_num):\n",
    "        if s not in num_li:\n",
    "            num_li.append(s)\n",
    "    return len(num_li)"
   ]
  },
  {
   "cell_type": "markdown",
   "metadata": {},
   "source": [
    "1씩 키우면서 K를 세어볼까...? <br>\n",
    "이렇게 쉽게 풀릴 리가 없긴 한데 ㅋㅋ"
   ]
  },
  {
   "cell_type": "code",
   "execution_count": 4,
   "metadata": {},
   "outputs": [],
   "source": [
    "# 정답 찾기\n",
    "while True:\n",
    "    N += 1\n",
    "    if count_k(N) == K:\n",
    "        answer = N\n",
    "        break"
   ]
  },
  {
   "cell_type": "code",
   "execution_count": 5,
   "metadata": {},
   "outputs": [
    {
     "name": "stdout",
     "output_type": "stream",
     "text": [
      "100002\n"
     ]
    }
   ],
   "source": [
    "# 정답 출력\n",
    "print(answer)"
   ]
  },
  {
   "cell_type": "markdown",
   "metadata": {},
   "source": [
    "```\n",
    "/* 코드가 실행되는 중입니다... */\n",
    "채점을 시작합니다...\n",
    "================================\n",
    "Case 1. 테스트를 통과했습니다! (+4)\n",
    "Case 2. 실행 시간을 초과했습니다. (+0)\n",
    "Case 3. 테스트를 통과했습니다! (+4)\n",
    "Case 4. 테스트를 통과했습니다! (+4)\n",
    "Case 5. 테스트를 통과했습니다! (+4)\n",
    "Case 6. 테스트를 통과했습니다! (+4)\n",
    "Case 7. 테스트를 통과했습니다! (+4)\n",
    "Case 8. 테스트를 통과했습니다! (+4)\n",
    "Case 9. 테스트를 통과했습니다! (+4)\n",
    "Case 10. 테스트를 통과했습니다! (+4)\n",
    "Case 11. 테스트를 통과했습니다! (+4)\n",
    "Case 12. 테스트를 통과했습니다! (+4)\n",
    "Case 13. 실행 시간을 초과했습니다. (+0)\n",
    "Case 14. 테스트를 통과했습니다! (+4)\n",
    "Case 15. 실행 시간을 초과했습니다. (+0)\n",
    "Case 16. 테스트를 통과했습니다! (+4)\n",
    "Case 17. 테스트를 통과했습니다! (+4)\n",
    "Case 18. 테스트를 통과했습니다! (+4)\n",
    "Case 19. 테스트를 통과했습니다! (+4)\n",
    "Case 20. 실행 시간을 초과했습니다. (+0)\n",
    "Case 21. 실행 시간을 초과했습니다. (+0)\n",
    "Case 22. 테스트를 통과했습니다! (+4)\n",
    "Case 23. 테스트를 통과했습니다! (+4)\n",
    "Case 24. 테스트를 통과했습니다! (+4)\n",
    "Case 25. 테스트를 통과했습니다! (+4)\n",
    "================================\n",
    "채점을 마쳤습니다.\n",
    "총 점수: 80 / 100\n",
    "\n",
    "/* 코드 실행이 완료되었습니다! */\n",
    "```"
   ]
  },
  {
   "cell_type": "markdown",
   "metadata": {},
   "source": []
  }
 ],
 "metadata": {
  "kernelspec": {
   "display_name": "myenv",
   "language": "python",
   "name": "python3"
  },
  "language_info": {
   "codemirror_mode": {
    "name": "ipython",
    "version": 3
   },
   "file_extension": ".py",
   "mimetype": "text/x-python",
   "name": "python",
   "nbconvert_exporter": "python",
   "pygments_lexer": "ipython3",
   "version": "3.11.9"
  }
 },
 "nbformat": 4,
 "nbformat_minor": 2
}
