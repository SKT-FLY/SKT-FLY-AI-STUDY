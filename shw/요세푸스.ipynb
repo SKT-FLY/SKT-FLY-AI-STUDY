{
 "cells": [
  {
   "cell_type": "code",
   "execution_count": 1,
   "metadata": {},
   "outputs": [],
   "source": [
    "from collections import deque\n",
    "\n",
    "def josephus(N, K):\n",
    "\n",
    "    people = deque(range(1, N+1))\n",
    "    pop_list =[]\n",
    "\n",
    "    while people:\n",
    "        people.rotate(-(K-1)) # 오른쪽으로 이동하려면 왼쪽으로 rotate해야함 (본인의 현재위치를 고려해야함 --> 풍선터뜨리기 문제에서도!)\n",
    "        pop_list.append(people.popleft())\n",
    "\n",
    "    return pop_list"
   ]
  },
  {
   "cell_type": "code",
   "execution_count": 5,
   "metadata": {},
   "outputs": [],
   "source": [
    "N = int(input(\"사람의 수 입력: \"))\n",
    "K = int(input(\"제거할 순서 입력: \"))"
   ]
  },
  {
   "cell_type": "code",
   "execution_count": 6,
   "metadata": {},
   "outputs": [
    {
     "name": "stdout",
     "output_type": "stream",
     "text": [
      "요세푸스 문제: [3, 6, 2, 7, 5, 1, 4]\n"
     ]
    }
   ],
   "source": [
    "result = josephus(N, K)\n",
    "print(\"요세푸스 문제:\", result)"
   ]
  },
  {
   "cell_type": "code",
   "execution_count": null,
   "metadata": {},
   "outputs": [],
   "source": []
  }
 ],
 "metadata": {
  "kernelspec": {
   "display_name": "tf",
   "language": "python",
   "name": "python3"
  },
  "language_info": {
   "codemirror_mode": {
    "name": "ipython",
    "version": 3
   },
   "file_extension": ".py",
   "mimetype": "text/x-python",
   "name": "python",
   "nbconvert_exporter": "python",
   "pygments_lexer": "ipython3",
   "version": "3.9.19"
  }
 },
 "nbformat": 4,
 "nbformat_minor": 2
}
