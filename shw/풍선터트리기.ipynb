{
 "cells": [
  {
   "cell_type": "code",
   "execution_count": 5,
   "metadata": {},
   "outputs": [],
   "source": [
    "from collections import deque\n",
    "\n",
    "def burst_balloons(paper_list):\n",
    "    \n",
    "    n = len(paper_list)\n",
    "    balloons = deque(enumerate(paper_list, start= 1)) # (풍선번호, 풍선 안 종이번호)\n",
    "    burst_list = []\n",
    "\n",
    "    #print(balloons)\n",
    "\n",
    "    while balloons:\n",
    "\n",
    "        if not balloons:  # 모든 풍선을 터뜨렸으면 종료\n",
    "            break\n",
    "\n",
    "        balloon_num, paper_num = balloons.popleft() # 1번 풍선부터 터트리면서 풍선번호와 종이번호를 반환받음\n",
    "        burst_list.append(balloon_num)  # 터뜨린 풍선번호를 터뜨린 리스트에 추가\n",
    "\n",
    "        # 종이번호에 0은 없음  \n",
    "        ### rotate(양수) -- (오른쪽의 원소들 왼쪽으로 회전, '왼쪽으로 이동')\n",
    "        ### rotate(음수) -- (왼쪽의 원소들 오른쪽으로 회전, '오른쪽으로 이동') 자기자신도 오른쪽으로 이동하기 때문에 고려해 주어야 함 -1\n",
    "        if paper_num > 0:\n",
    "            balloons.rotate(-(paper_num-1)) \n",
    "        else:\n",
    "            balloons.rotate(-paper_num) \n",
    "    \n",
    "    return burst_list"
   ]
  },
  {
   "cell_type": "code",
   "execution_count": 3,
   "metadata": {},
   "outputs": [],
   "source": [
    "N = int(input(\"풍선의 개수:\"))\n",
    "paper_list = list(map(int, input(\"풍선 안에 적힌 종이의 숫자를 입력\").split()))"
   ]
  },
  {
   "cell_type": "code",
   "execution_count": 6,
   "metadata": {},
   "outputs": [
    {
     "name": "stdout",
     "output_type": "stream",
     "text": [
      "풍선이 터지는 순서: [1, 4, 5, 3, 2]\n"
     ]
    }
   ],
   "source": [
    "result = burst_balloons(paper_list)\n",
    "print(\"풍선이 터지는 순서:\", result)"
   ]
  }
 ],
 "metadata": {
  "kernelspec": {
   "display_name": "tf",
   "language": "python",
   "name": "python3"
  },
  "language_info": {
   "codemirror_mode": {
    "name": "ipython",
    "version": 3
   },
   "file_extension": ".py",
   "mimetype": "text/x-python",
   "name": "python",
   "nbconvert_exporter": "python",
   "pygments_lexer": "ipython3",
   "version": "3.9.19"
  }
 },
 "nbformat": 4,
 "nbformat_minor": 2
}
